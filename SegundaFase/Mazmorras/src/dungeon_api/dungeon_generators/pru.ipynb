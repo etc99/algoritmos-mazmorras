{
 "cells": [
  {
   "cell_type": "code",
   "execution_count": 1,
   "metadata": {
    "notebookRunGroups": {
     "groupValue": ""
    }
   },
   "outputs": [],
   "source": [
    "from dungeon_kruskal import *"
   ]
  },
  {
   "cell_type": "code",
   "execution_count": 2,
   "metadata": {},
   "outputs": [
    {
     "name": "stdout",
     "output_type": "stream",
     "text": [
      "..▓.....▓.\n",
      "....▓...▓.\n",
      "....▓.....\n",
      ".▓▓....▓..\n",
      "..........\n",
      "........▓.\n",
      "...▓......\n",
      "..........\n",
      ".▓.......▓\n",
      "......▓...\n",
      "\n"
     ]
    }
   ],
   "source": [
    "a = DungeonKruskal(10, 10)\n",
    "\n",
    "\n",
    "\n",
    "print(str(a))"
   ]
  }
 ],
 "metadata": {
  "kernelspec": {
   "display_name": "venv",
   "language": "python",
   "name": "python3"
  },
  "language_info": {
   "codemirror_mode": {
    "name": "ipython",
    "version": 3
   },
   "file_extension": ".py",
   "mimetype": "text/x-python",
   "name": "python",
   "nbconvert_exporter": "python",
   "pygments_lexer": "ipython3",
   "version": "3.11.8"
  }
 },
 "nbformat": 4,
 "nbformat_minor": 2
}
